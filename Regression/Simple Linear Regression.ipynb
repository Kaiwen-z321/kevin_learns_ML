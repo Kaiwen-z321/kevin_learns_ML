{
 "cells": [
  {
   "cell_type": "code",
   "execution_count": 25,
   "metadata": {},
   "outputs": [],
   "source": [
    "import sklearn.datasets\n",
    "from sklearn.linear_model import LinearRegression\n",
    "import numpy as np"
   ]
  },
  {
   "cell_type": "code",
   "execution_count": 53,
   "metadata": {},
   "outputs": [
    {
     "data": {
      "text/plain": [
       "dict_keys(['data', 'target', 'DESCR', 'feature_names', 'data_filename', 'target_filename'])"
      ]
     },
     "execution_count": 53,
     "metadata": {},
     "output_type": "execute_result"
    }
   ],
   "source": [
    "diabetes = datasets.load_diabetes()\n",
    "diabetes.keys()"
   ]
  },
  {
   "cell_type": "code",
   "execution_count": 58,
   "metadata": {},
   "outputs": [
    {
     "name": "stdout",
     "output_type": "stream",
     "text": [
      "Know your dataset:\n",
      " .. _diabetes_dataset:\n",
      "\n",
      "Diabetes dataset\n",
      "----------------\n",
      "\n",
      "Ten baseline variables, age, sex, body mass index, average blood\n",
      "pressure, and six blood serum measurements were obtained for each of n =\n",
      "442 diabetes patients, as well as the response of interest, a\n",
      "quantitative measure of disease progression one year after baseline.\n",
      "\n",
      "**Data Set Characteristics:**\n",
      "\n",
      "  :Number of Instances: 442\n",
      "\n",
      "  :Number of Attributes: First 10 columns are numeric predictive values\n",
      "\n",
      "  :Target: Column 11 is a quantitative measure of disease progression one year after baseline\n",
      "\n",
      "  :Attribute Information:\n",
      "      - Age\n",
      "      - Sex\n",
      "      - Body mass index\n",
      "      - Average blood pressure\n",
      "      - S1\n",
      "      - S2\n",
      "      - S3\n",
      "      - S4\n",
      "      - S5\n",
      "      - S6\n",
      "\n",
      "Note: Each of these 10 feature variables have been mean centered and scaled by the standard deviation times `n_samples` (i.e. the sum of squares of each column totals 1).\n",
      "\n",
      "Source URL:\n",
      "https://www4.stat.ncsu.edu/~boos/var.select/diabetes.html\n",
      "\n",
      "For more information see:\n",
      "Bradley Efron, Trevor Hastie, Iain Johnstone and Robert Tibshirani (2004) \"Least Angle Regression,\" Annals of Statistics (with discussion), 407-499.\n",
      "(https://web.stanford.edu/~hastie/Papers/LARS/LeastAngle_2002.pdf)\n"
     ]
    }
   ],
   "source": [
    "print('Know your dataset:\\n {}'.format(diabetes.DESCR))"
   ]
  },
  {
   "cell_type": "code",
   "execution_count": 12,
   "metadata": {},
   "outputs": [
    {
     "name": "stdout",
     "output_type": "stream",
     "text": [
      "(442, 10) (442,)\n",
      "This dataset has 442 entries and 11 features, the features are:\n",
      " ['age', 'sex', 'bmi', 'bp', 's1', 's2', 's3', 's4', 's5', 's6']\n"
     ]
    }
   ],
   "source": [
    "X, y = diabetes.data, diabetes.target\n",
    "print(X.shape, y.shape)\n",
    "print('This dataset has 442 entries and 11 features, the features are:\\n {}'.format(diabetes.feature_names))"
   ]
  },
  {
   "cell_type": "code",
   "execution_count": 28,
   "metadata": {},
   "outputs": [
    {
     "name": "stdout",
     "output_type": "stream",
     "text": [
      "(442, 1)\n",
      "[[ 0.06169621]\n",
      " [-0.05147406]\n",
      " [ 0.04445121]\n",
      " [-0.01159501]\n",
      " [-0.03638469]]\n"
     ]
    }
   ],
   "source": [
    "# suppose we only care about bmi which is feature 3\n",
    "X_bmi = X[:,2].reshape(-1,1) # make sure to reshape the data\n",
    "print(X_bmi.shape)\n",
    "print(X_bmi[:5])"
   ]
  },
  {
   "cell_type": "code",
   "execution_count": 29,
   "metadata": {},
   "outputs": [
    {
     "name": "stdout",
     "output_type": "stream",
     "text": [
      "Training set size: (331, 1), (331,)\n",
      "Testing set size: (111, 1), (111,)\n"
     ]
    }
   ],
   "source": [
    "# now we split training and testing\n",
    "from sklearn.model_selection import train_test_split\n",
    "X_train, X_test, y_train, y_test = train_test_split(X_bmi, y, random_state = 0)\n",
    "print('Training set size: {}, {}'.format(X_train.shape, y_train.shape))\n",
    "print('Testing set size: {}, {}'.format(X_test.shape, y_test.shape))"
   ]
  },
  {
   "cell_type": "code",
   "execution_count": 48,
   "metadata": {},
   "outputs": [
    {
     "name": "stdout",
     "output_type": "stream",
     "text": [
      "Estimated coefficients: [1016.92353894]\n",
      "Estimated intercept: 153.2256898080062\n",
      "So our fitted model is y = 153.22 + 1016.92*x\n"
     ]
    }
   ],
   "source": [
    "# train the model\n",
    "lm = LinearRegression()\n",
    "fit_lm = lm.fit(X_train, y_train)\n",
    "print('Estimated coefficients: {}'.format(fit_lm.coef_))\n",
    "print('Estimated intercept: {}'.format(fit_lm.intercept_))\n",
    "print('So our fitted model is y = 153.22 + 1016.92*x')"
   ]
  },
  {
   "cell_type": "code",
   "execution_count": 59,
   "metadata": {},
   "outputs": [
    {
     "name": "stdout",
     "output_type": "stream",
     "text": [
      "Check the predictions made by our model:\n",
      " [259.80811322 214.86996201 162.25944352 129.37786947 199.52522745\n",
      " 252.13574594 123.89760713 176.50812561 208.2936472  200.62127992\n",
      "  94.30419048 200.62127992 115.12918738 106.36076763 243.36732619\n",
      " 130.47392194  93.20813801 100.88050529  67.99893123 194.04496511\n",
      " 181.98838796 164.45154846 128.281817   212.67785707 209.38969967\n",
      " 171.02786327 110.74497751 107.4568201  157.87523365 179.79628302\n",
      " 150.20286637  99.78445282 142.53049909 141.43444662 146.91470897\n",
      " 174.31602068 137.05023675 143.62655156 154.58707625 187.4686503\n",
      "  86.6318232  142.53049909 145.8186565  149.1068139  184.18049289\n",
      "  91.01603307 133.76207934 178.70023055 119.51339725 187.4686503\n",
      " 130.47392194 105.26471516 172.12391574 144.72260403 197.33312252\n",
      " 134.85813181 184.18049289 149.1068139  148.01076143 165.54760093\n",
      " 195.14101758 177.60417808 203.90943733 131.56997441 214.86996201\n",
      " 181.98838796  89.9199806  201.71733239 196.23707005  78.95945592\n",
      " 127.18576453 127.18576453 122.80155466 190.75680771 158.97128612\n",
      " 128.281817   137.05023675 214.86996201 235.69495891 179.79628302\n",
      " 150.20286637 163.35549599 132.66602688 167.73970587  62.51866889\n",
      "  81.15156086 197.33312252 167.73970587 143.62655156 155.68312871\n",
      "  74.57524605 117.32129232 154.58707625 174.31602068 116.22523985\n",
      " 111.84102997 186.37259783 269.67258544 181.98838796 215.96601448\n",
      " 140.33839415 111.84102997 143.62655156  94.30419048 207.19759473\n",
      " 151.29891884 208.2936472  292.68968727 149.1068139  122.80155466\n",
      " 173.21996821]\n"
     ]
    }
   ],
   "source": [
    "y_predicted = fit_lm.predict(X_test)\n",
    "print('Check the predictions made by our model:\\n {}'.format(y_predicted))"
   ]
  },
  {
   "cell_type": "code",
   "execution_count": 66,
   "metadata": {},
   "outputs": [
    {
     "name": "stdout",
     "output_type": "stream",
     "text": [
      "Training score: 0.39\n",
      "Testing score: 0.16\n",
      "Since we only considered one feature, with no doubt our model is flawed\n"
     ]
    }
   ],
   "source": [
    "print('Training score: {:.2f}'.format(fit_lm.score(X_train,y_train)))\n",
    "print('Testing score: {:.2f}'.format(fit_lm.score(X_test,y_test)))\n",
    "print('Since we only considered one feature, with no doubt our model is flawed')"
   ]
  },
  {
   "cell_type": "code",
   "execution_count": 72,
   "metadata": {},
   "outputs": [
    {
     "name": "stdout",
     "output_type": "stream",
     "text": [
      "Other measurements:\n",
      " MSE: 4181.42 \n",
      " R^2: 0.16 (which is the score)\n"
     ]
    }
   ],
   "source": [
    "from sklearn.metrics import mean_squared_error, r2_score\n",
    "print('Other measurements:\\n MSE: {:.2f} \\n R^2: {:.2f} (which is the score)'.format(mean_squared_error(y_test, y_predicted),r2_score(y_test,y_predicted)))"
   ]
  },
  {
   "cell_type": "code",
   "execution_count": 65,
   "metadata": {},
   "outputs": [
    {
     "data": {
      "image/png": "[encoded data removed]",
      "text/plain": [
       "<Figure size 432x288 with 1 Axes>"
      ]
     },
     "metadata": {
      "needs_background": "light"
     },
     "output_type": "display_data"
    },
    {
     "name": "stdout",
     "output_type": "stream",
     "text": [
      "It is obvious our model is not a good fit\n"
     ]
    }
   ],
   "source": [
    "import matplotlib.pyplot as plt\n",
    "plt.scatter(X_test, y_test, color='black')\n",
    "plt.plot(X_test, y_predicted)\n",
    "plt.xlabel('BMI')\n",
    "plt.ylabel('Diabetes Measure')\n",
    "plt.show()\n",
    "print('It is obvious our model is not a good fit')"
   ]
  }
 ],
 "metadata": {
  "kernelspec": {
   "display_name": "Python 3",
   "language": "python",
   "name": "python3"
  },
  "language_info": {
   "codemirror_mode": {
    "name": "ipython",
    "version": 3
   },
   "file_extension": ".py",
   "mimetype": "text/x-python",
   "name": "python",
   "nbconvert_exporter": "python",
   "pygments_lexer": "ipython3",
   "version": "3.7.4"
  }
 },
 "nbformat": 4,
 "nbformat_minor": 2
}
